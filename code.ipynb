{
 "cells": [
  {
   "cell_type": "code",
   "execution_count": 1,
   "id": "30f0f292",
   "metadata": {
    "id": "30f0f292"
   },
   "outputs": [],
   "source": [
    "# combination of SMOTE and random undersampling for imbalanced classification\n",
    "from numpy import mean\n",
    "from sklearn.datasets import make_classification\n",
    "from sklearn.model_selection import cross_val_score\n",
    "from sklearn.model_selection import RepeatedStratifiedKFold\n",
    "from sklearn.tree import DecisionTreeClassifier\n",
    "from imblearn.pipeline import Pipeline\n",
    "from imblearn.over_sampling import SMOTE\n",
    "from imblearn.under_sampling import RandomUnderSampler"
   ]
  },
  {
   "cell_type": "code",
   "execution_count": 2,
   "id": "a03a0420",
   "metadata": {
    "id": "a03a0420"
   },
   "outputs": [],
   "source": [
    "import numpy as np\n",
    "import pandas as pd\n",
    "\n",
    "import matplotlib.pyplot as plt\n",
    "import seaborn as sns\n",
    "\n",
    "from sklearn.pipeline import Pipeline\n",
    "from sklearn.base import TransformerMixin, BaseEstimator\n",
    "from sklearn.feature_extraction.text import TfidfVectorizer, TfidfTransformer, CountVectorizer\n",
    "from sklearn.model_selection import cross_validate, cross_val_score, train_test_split, KFold, GridSearchCV\n",
    "from sklearn.metrics import classification_report, accuracy_score\n",
    "\n",
    "import time\n",
    "import re\n",
    "import pickle\n",
    "from string import punctuation\n",
    "from nltk import pos_tag\n",
    "from nltk.corpus import stopwords, wordnet\n",
    "from nltk.stem import WordNetLemmatizer\n",
    "from nltk.tokenize import word_tokenize\n",
    "from wordcloud import WordCloud\n",
    "\n",
    "from sklearn.svm import LinearSVC, SVC\n",
    "from sklearn.tree import DecisionTreeClassifier\n",
    "from sklearn.naive_bayes import GaussianNB, MultinomialNB\n",
    "from sklearn.linear_model import LogisticRegression, SGDClassifier\n",
    "from sklearn.ensemble import RandomForestClassifier\n",
    "from sklearn.neighbors import KNeighborsClassifier"
   ]
  },
  {
   "cell_type": "code",
   "execution_count": 4,
   "id": "ca977b6e",
   "metadata": {},
   "outputs": [],
   "source": [
    "from sklearn.cluster import KMeans\n",
    "from sklearn.metrics.cluster import adjusted_rand_score\n",
    "from kneed import KneeLocator\n",
    "from sklearn.metrics import silhouette_score\n",
    "from sklearn.preprocessing import StandardScaler"
   ]
  },
  {
   "attachments": {},
   "cell_type": "markdown",
   "id": "0b2d81e7",
   "metadata": {},
   "source": [
    "kl = KneeLocator(range(1, 11), sse, curve=\"convex\", direction=\"decreasing\")"
   ]
  },
  {
   "cell_type": "code",
   "execution_count": 5,
   "id": "da402188",
   "metadata": {},
   "outputs": [
    {
     "data": {
      "text/html": [
       "<div>\n",
       "<style scoped>\n",
       "    .dataframe tbody tr th:only-of-type {\n",
       "        vertical-align: middle;\n",
       "    }\n",
       "\n",
       "    .dataframe tbody tr th {\n",
       "        vertical-align: top;\n",
       "    }\n",
       "\n",
       "    .dataframe thead th {\n",
       "        text-align: right;\n",
       "    }\n",
       "</style>\n",
       "<table border=\"1\" class=\"dataframe\">\n",
       "  <thead>\n",
       "    <tr style=\"text-align: right;\">\n",
       "      <th></th>\n",
       "      <th>Unnamed: 0</th>\n",
       "      <th>category</th>\n",
       "      <th>text</th>\n",
       "    </tr>\n",
       "  </thead>\n",
       "  <tbody>\n",
       "    <tr>\n",
       "      <th>0</th>\n",
       "      <td>0</td>\n",
       "      <td>U.S. NEWS</td>\n",
       "      <td>4 million american roll sleeve omicrontargeted...</td>\n",
       "    </tr>\n",
       "    <tr>\n",
       "      <th>1</th>\n",
       "      <td>1</td>\n",
       "      <td>U.S. NEWS</td>\n",
       "      <td>american airline flyer charge ban life punch f...</td>\n",
       "    </tr>\n",
       "    <tr>\n",
       "      <th>2</th>\n",
       "      <td>2</td>\n",
       "      <td>COMEDY</td>\n",
       "      <td>23 funniest tweet cat dog week sept 1723until ...</td>\n",
       "    </tr>\n",
       "    <tr>\n",
       "      <th>3</th>\n",
       "      <td>3</td>\n",
       "      <td>PARENTING</td>\n",
       "      <td>funniest tweet parent week sept 1723accidental...</td>\n",
       "    </tr>\n",
       "    <tr>\n",
       "      <th>4</th>\n",
       "      <td>4</td>\n",
       "      <td>U.S. NEWS</td>\n",
       "      <td>woman call cop black birdwatcher loses lawsuit...</td>\n",
       "    </tr>\n",
       "    <tr>\n",
       "      <th>...</th>\n",
       "      <td>...</td>\n",
       "      <td>...</td>\n",
       "      <td>...</td>\n",
       "    </tr>\n",
       "    <tr>\n",
       "      <th>209522</th>\n",
       "      <td>209522</td>\n",
       "      <td>TECH</td>\n",
       "      <td>rim ceo thorsten heins significant plan blackb...</td>\n",
       "    </tr>\n",
       "    <tr>\n",
       "      <th>209523</th>\n",
       "      <td>209523</td>\n",
       "      <td>SPORTS</td>\n",
       "      <td>maria sharapova stun victoria azarenka austral...</td>\n",
       "    </tr>\n",
       "    <tr>\n",
       "      <th>209524</th>\n",
       "      <td>209524</td>\n",
       "      <td>SPORTS</td>\n",
       "      <td>giant patriot jet colt among improbable super ...</td>\n",
       "    </tr>\n",
       "    <tr>\n",
       "      <th>209525</th>\n",
       "      <td>209525</td>\n",
       "      <td>SPORTS</td>\n",
       "      <td>aldon smith arrest 49ers linebacker bust duico...</td>\n",
       "    </tr>\n",
       "    <tr>\n",
       "      <th>209526</th>\n",
       "      <td>209526</td>\n",
       "      <td>SPORTS</td>\n",
       "      <td>dwight howard rip teammate magic loss hornetst...</td>\n",
       "    </tr>\n",
       "  </tbody>\n",
       "</table>\n",
       "<p>209527 rows × 3 columns</p>\n",
       "</div>"
      ],
      "text/plain": [
       "        Unnamed: 0   category  \\\n",
       "0                0  U.S. NEWS   \n",
       "1                1  U.S. NEWS   \n",
       "2                2     COMEDY   \n",
       "3                3  PARENTING   \n",
       "4                4  U.S. NEWS   \n",
       "...            ...        ...   \n",
       "209522      209522       TECH   \n",
       "209523      209523     SPORTS   \n",
       "209524      209524     SPORTS   \n",
       "209525      209525     SPORTS   \n",
       "209526      209526     SPORTS   \n",
       "\n",
       "                                                     text  \n",
       "0       4 million american roll sleeve omicrontargeted...  \n",
       "1       american airline flyer charge ban life punch f...  \n",
       "2       23 funniest tweet cat dog week sept 1723until ...  \n",
       "3       funniest tweet parent week sept 1723accidental...  \n",
       "4       woman call cop black birdwatcher loses lawsuit...  \n",
       "...                                                   ...  \n",
       "209522  rim ceo thorsten heins significant plan blackb...  \n",
       "209523  maria sharapova stun victoria azarenka austral...  \n",
       "209524  giant patriot jet colt among improbable super ...  \n",
       "209525  aldon smith arrest 49ers linebacker bust duico...  \n",
       "209526  dwight howard rip teammate magic loss hornetst...  \n",
       "\n",
       "[209527 rows x 3 columns]"
      ]
     },
     "execution_count": 5,
     "metadata": {},
     "output_type": "execute_result"
    }
   ],
   "source": [
    "\n",
    "df=pd.read_csv(\"updated-Copy1.csv\")\n",
    "df"
   ]
  },
  {
   "cell_type": "code",
   "execution_count": 6,
   "id": "9c41e110",
   "metadata": {},
   "outputs": [
    {
     "data": {
      "text/html": [
       "<div>\n",
       "<style scoped>\n",
       "    .dataframe tbody tr th:only-of-type {\n",
       "        vertical-align: middle;\n",
       "    }\n",
       "\n",
       "    .dataframe tbody tr th {\n",
       "        vertical-align: top;\n",
       "    }\n",
       "\n",
       "    .dataframe thead th {\n",
       "        text-align: right;\n",
       "    }\n",
       "</style>\n",
       "<table border=\"1\" class=\"dataframe\">\n",
       "  <thead>\n",
       "    <tr style=\"text-align: right;\">\n",
       "      <th></th>\n",
       "      <th>category</th>\n",
       "      <th>text</th>\n",
       "    </tr>\n",
       "  </thead>\n",
       "  <tbody>\n",
       "    <tr>\n",
       "      <th>0</th>\n",
       "      <td>U.S. NEWS</td>\n",
       "      <td>4 million american roll sleeve omicrontargeted...</td>\n",
       "    </tr>\n",
       "    <tr>\n",
       "      <th>1</th>\n",
       "      <td>U.S. NEWS</td>\n",
       "      <td>american airline flyer charge ban life punch f...</td>\n",
       "    </tr>\n",
       "    <tr>\n",
       "      <th>2</th>\n",
       "      <td>COMEDY</td>\n",
       "      <td>23 funniest tweet cat dog week sept 1723until ...</td>\n",
       "    </tr>\n",
       "    <tr>\n",
       "      <th>3</th>\n",
       "      <td>PARENTING</td>\n",
       "      <td>funniest tweet parent week sept 1723accidental...</td>\n",
       "    </tr>\n",
       "    <tr>\n",
       "      <th>4</th>\n",
       "      <td>U.S. NEWS</td>\n",
       "      <td>woman call cop black birdwatcher loses lawsuit...</td>\n",
       "    </tr>\n",
       "    <tr>\n",
       "      <th>...</th>\n",
       "      <td>...</td>\n",
       "      <td>...</td>\n",
       "    </tr>\n",
       "    <tr>\n",
       "      <th>209522</th>\n",
       "      <td>TECH</td>\n",
       "      <td>rim ceo thorsten heins significant plan blackb...</td>\n",
       "    </tr>\n",
       "    <tr>\n",
       "      <th>209523</th>\n",
       "      <td>SPORTS</td>\n",
       "      <td>maria sharapova stun victoria azarenka austral...</td>\n",
       "    </tr>\n",
       "    <tr>\n",
       "      <th>209524</th>\n",
       "      <td>SPORTS</td>\n",
       "      <td>giant patriot jet colt among improbable super ...</td>\n",
       "    </tr>\n",
       "    <tr>\n",
       "      <th>209525</th>\n",
       "      <td>SPORTS</td>\n",
       "      <td>aldon smith arrest 49ers linebacker bust duico...</td>\n",
       "    </tr>\n",
       "    <tr>\n",
       "      <th>209526</th>\n",
       "      <td>SPORTS</td>\n",
       "      <td>dwight howard rip teammate magic loss hornetst...</td>\n",
       "    </tr>\n",
       "  </tbody>\n",
       "</table>\n",
       "<p>209527 rows × 2 columns</p>\n",
       "</div>"
      ],
      "text/plain": [
       "         category                                               text\n",
       "0       U.S. NEWS  4 million american roll sleeve omicrontargeted...\n",
       "1       U.S. NEWS  american airline flyer charge ban life punch f...\n",
       "2          COMEDY  23 funniest tweet cat dog week sept 1723until ...\n",
       "3       PARENTING  funniest tweet parent week sept 1723accidental...\n",
       "4       U.S. NEWS  woman call cop black birdwatcher loses lawsuit...\n",
       "...           ...                                                ...\n",
       "209522       TECH  rim ceo thorsten heins significant plan blackb...\n",
       "209523     SPORTS  maria sharapova stun victoria azarenka austral...\n",
       "209524     SPORTS  giant patriot jet colt among improbable super ...\n",
       "209525     SPORTS  aldon smith arrest 49ers linebacker bust duico...\n",
       "209526     SPORTS  dwight howard rip teammate magic loss hornetst...\n",
       "\n",
       "[209527 rows x 2 columns]"
      ]
     },
     "execution_count": 6,
     "metadata": {},
     "output_type": "execute_result"
    }
   ],
   "source": [
    "df.drop(columns=[\"Unnamed: 0\"],axis=1,inplace=True)\n",
    "df"
   ]
  },
  {
   "cell_type": "code",
   "execution_count": 7,
   "id": "12408b02",
   "metadata": {},
   "outputs": [
    {
     "data": {
      "text/plain": [
       "category    0\n",
       "text        0\n",
       "dtype: int64"
      ]
     },
     "execution_count": 7,
     "metadata": {},
     "output_type": "execute_result"
    }
   ],
   "source": [
    "df=df.dropna()\n",
    "df.isna().sum()"
   ]
  },
  {
   "cell_type": "markdown",
   "id": "071ad332",
   "metadata": {
    "id": "071ad332"
   },
   "source": [
    "# Splitting Data"
   ]
  },
  {
   "cell_type": "code",
   "execution_count": 8,
   "id": "5a76caae",
   "metadata": {
    "id": "5a76caae"
   },
   "outputs": [],
   "source": [
    "X=df[\"text\"]\n",
    "y=df[\"category\"]"
   ]
  },
  {
   "cell_type": "code",
   "execution_count": 9,
   "id": "8ee152a1",
   "metadata": {},
   "outputs": [],
   "source": [
    "vectorizer = CountVectorizer()\n",
    "X = vectorizer.fit_transform(X)\n",
    "transformer = TfidfTransformer()\n",
    "# Transform the matrix of token counts into a matrix of TF-IDF values\n",
    "X = transformer.fit_transform(X)\n"
   ]
  },
  {
   "cell_type": "code",
   "execution_count": 10,
   "id": "c75b6247",
   "metadata": {},
   "outputs": [
    {
     "name": "stdout",
     "output_type": "stream",
     "text": [
      "(209515, 228317)\n",
      "(209515,)\n"
     ]
    }
   ],
   "source": [
    "print(X.shape)\n",
    "print(y.shape)"
   ]
  },
  {
   "cell_type": "code",
   "execution_count": 11,
   "id": "51974f83",
   "metadata": {},
   "outputs": [],
   "source": [
    "undersampler = RandomUnderSampler(sampling_strategy=\"all\")\n",
    "# Transform the matrix of TF-IDF values using the undersampler\n",
    "X= undersampler.fit_resample(X,y)"
   ]
  },
  {
   "cell_type": "code",
   "execution_count": 12,
   "id": "9ac1787e",
   "metadata": {},
   "outputs": [],
   "source": [
    "X_trans=X[0]"
   ]
  },
  {
   "cell_type": "code",
   "execution_count": 13,
   "id": "c52bcd74",
   "metadata": {},
   "outputs": [
    {
     "data": {
      "text/plain": [
       "0             ARTS\n",
       "1             ARTS\n",
       "2             ARTS\n",
       "3             ARTS\n",
       "4             ARTS\n",
       "           ...    \n",
       "42583    WORLDPOST\n",
       "42584    WORLDPOST\n",
       "42585    WORLDPOST\n",
       "42586    WORLDPOST\n",
       "42587    WORLDPOST\n",
       "Name: category, Length: 42588, dtype: object"
      ]
     },
     "execution_count": 13,
     "metadata": {},
     "output_type": "execute_result"
    }
   ],
   "source": [
    "y_trans=X[1]\n",
    "y_trans"
   ]
  },
  {
   "cell_type": "code",
   "execution_count": 14,
   "id": "dc815d16",
   "metadata": {},
   "outputs": [],
   "source": [
    "oversampler = SMOTE(sampling_strategy=\"all\")\n",
    "X_s= oversampler.fit_resample(X_trans,y_trans)"
   ]
  },
  {
   "cell_type": "code",
   "execution_count": 15,
   "id": "e81004e8",
   "metadata": {},
   "outputs": [],
   "source": [
    "X=X_s[0]\n",
    "y=X_s[1]"
   ]
  },
  {
   "cell_type": "code",
   "execution_count": 16,
   "id": "64e17d23",
   "metadata": {},
   "outputs": [],
   "source": [
    "X_train, X_test, y_train, y_test = train_test_split(X, y, random_state=0)"
   ]
  },
  {
   "cell_type": "markdown",
   "id": "f9864713",
   "metadata": {
    "id": "f9864713"
   },
   "source": [
    "# Modeling \n"
   ]
  },
  {
   "cell_type": "code",
   "execution_count": 17,
   "id": "f0661fcc",
   "metadata": {
    "id": "f0661fcc"
   },
   "outputs": [],
   "source": [
    "from sklearn.metrics import classification_report, accuracy_score,f1_score,precision_score,recall_score\n",
    "def scores(y_train,y_test, pred_train, pred_test):\n",
    "    print()\n",
    "    print(\"Train data accuracy score: \", accuracy_score(y_train,pred_train))    \n",
    "    print(\"Test data accuracy score: \", accuracy_score(y_test,pred_test))\n",
    "    print()\n",
    "    print(\"Recall score on train data: \", recall_score(y_train,pred_train, average='macro'))\n",
    "    print(\"Recall score on test data: \",recall_score( y_test,pred_test, average='macro'))\n",
    "    print()\n",
    "    \n",
    "    print(\"Precision score on train data: \",precision_score(y_train,pred_train, average='macro'))\n",
    "    print(\"Precision score on test data: \",precision_score(y_test,pred_test, average='macro'))\n",
    "    print()\n",
    "    print(\"F1 score on train data: \",f1_score(y_train,pred_train, average='macro'))\n",
    "    print(\"F1 score on test data: \",f1_score(y_test,pred_test, average='macro'))"
   ]
  },
  {
   "cell_type": "code",
   "execution_count": 48,
   "id": "efeb1e29",
   "metadata": {},
   "outputs": [
    {
     "name": "stdout",
     "output_type": "stream",
     "text": [
      "\n",
      "Train data accuracy score:  0.9961804577189193\n",
      "Test data accuracy score:  0.45740584202122664\n",
      "\n",
      "Recall score on train data:  0.9961844988540941\n",
      "Recall score on test data:  0.45713248243461685\n",
      "\n",
      "Precision score on train data:  0.9961958988005284\n",
      "Precision score on test data:  0.45375215134391284\n",
      "\n",
      "F1 score on train data:  0.9961848137440752\n",
      "F1 score on test data:  0.4538139407599968\n"
     ]
    }
   ],
   "source": [
    "modelsvc=LinearSVC()\n",
    "modelsvc.fit(X_train,y_train)\n",
    "y_pred_train=modelsvc.predict(X_train)\n",
    "y_pred_test = modelsvc.predict(X_test)\n",
    "scores(y_train,y_test,y_pred_train,y_pred_test)"
   ]
  },
  {
   "cell_type": "code",
   "execution_count": 46,
   "id": "e964f6a7",
   "metadata": {},
   "outputs": [
    {
     "name": "stdout",
     "output_type": "stream",
     "text": [
      "\n",
      "Train data accuracy score:  0.8294668294668295\n",
      "Test data accuracy score:  0.44698037005729313\n",
      "\n",
      "Recall score on train data:  0.8294195885686987\n",
      "Recall score on test data:  0.44776135698243635\n",
      "\n",
      "Precision score on train data:  0.841989276733198\n",
      "Precision score on test data:  0.47153945738625297\n",
      "\n",
      "F1 score on train data:  0.8310159229001977\n",
      "F1 score on test data:  0.4437469862636353\n"
     ]
    }
   ],
   "source": [
    "model1=MultinomialNB()\n",
    "model1.fit(X_train,y_train)\n",
    "y_pred_train=model1.predict(X_train)\n",
    "y_pred_test = model1.predict(X_test)\n",
    "scores(y_train,y_test,y_pred_train,y_pred_test)\n"
   ]
  },
  {
   "cell_type": "code",
   "execution_count": null,
   "id": "69d08bf4",
   "metadata": {},
   "outputs": [],
   "source": []
  },
  {
   "cell_type": "code",
   "execution_count": null,
   "id": "7ccb095e",
   "metadata": {},
   "outputs": [],
   "source": [
    "l1=[]\n",
    "for i in range(1,130):\n",
    "    model2=KNeighborsClassifier(n_neighbors=i)\n",
    "    model2.fit(X_train,y_train)\n",
    "    y_pred_train=model2.predict(X_train)\n",
    "    y_pred_test = model2.predict(X_test)\n",
    "    temp=accuracy_score(y_pred_test,y_test)\n",
    "    l1.append(temp*100)\n",
    "    # scores(y_train,y_test,y_pred_train,y_pred_test)"
   ]
  },
  {
   "cell_type": "code",
   "execution_count": 102,
   "id": "71c4f135",
   "metadata": {},
   "outputs": [
    {
     "data": {
      "text/plain": [
       "[<matplotlib.lines.Line2D at 0x1ce16498a60>]"
      ]
     },
     "execution_count": 102,
     "metadata": {},
     "output_type": "execute_result"
    },
    {
     "data": {
      "image/png": "[encoded data removed]",
      "text/plain": [
       "<Figure size 432x288 with 1 Axes>"
      ]
     },
     "metadata": {
      "needs_background": "light"
     },
     "output_type": "display_data"
    }
   ],
   "source": [
    "l2=[i for i in range(1,131)]\n",
    "knnlist=l1\n",
    "knnlist=np.array(knnlist).reshape(-1,1)\n",
    "l2=np.array(l2).reshape(-1,1)\n",
    "plt.plot(l2,knnlist)"
   ]
  },
  {
   "attachments": {},
   "cell_type": "markdown",
   "id": "303a47fd",
   "metadata": {},
   "source": [
    "maximum accuracy occurs at k=60, that is 40%"
   ]
  },
  {
   "cell_type": "code",
   "execution_count": 23,
   "id": "3468654c",
   "metadata": {},
   "outputs": [
    {
     "name": "stdout",
     "output_type": "stream",
     "text": [
      "\n",
      "Train data accuracy score:  0.9999686922763846\n",
      "Test data accuracy score:  0.4152343383112614\n",
      "\n",
      "Recall score on train data:  0.9999685890187209\n",
      "Recall score on test data:  0.4156749764002802\n",
      "\n",
      "Precision score on train data:  0.9999694357845834\n",
      "Precision score on test data:  0.4357901213123285\n",
      "\n",
      "F1 score on train data:  0.9999689922198934\n",
      "F1 score on test data:  0.40785877138885984\n"
     ]
    }
   ],
   "source": [
    "model3 = RandomForestClassifier()\n",
    "model3.fit(X_train,y_train)\n",
    "y_pred_train=model3.predict(X_train)\n",
    "y_pred_test = model3.predict(X_test)\n",
    "scores(y_train,y_test,y_pred_train,y_pred_test)\n"
   ]
  },
  {
   "attachments": {},
   "cell_type": "markdown",
   "id": "8dea3890",
   "metadata": {},
   "source": [
    "## Model Tuning"
   ]
  },
  {
   "cell_type": "code",
   "execution_count": 20,
   "id": "3fbe56e6",
   "metadata": {},
   "outputs": [
    {
     "name": "stdout",
     "output_type": "stream",
     "text": [
      "Accuracy score for alpha=0.1 is: 43.93%\n",
      "Accuracy score for alpha=0.2 is: 44.85%\n",
      "Accuracy score for alpha=0.3 is: 45.4%\n",
      "Accuracy score for alpha=0.4 is: 45.21%\n"
     ]
    }
   ],
   "source": [
    "best_accuracy = 0.0\n",
    "alpha_val = 0.0\n",
    "for i in np.arange(0.1,0.5,0.1):\n",
    "    temp_classifier = MultinomialNB (alpha=i) \n",
    "    temp_classifier.fit(X_train, y_train)\n",
    "    temp_y_pred = temp_classifier.predict(X_test)\n",
    "    score = accuracy_score(y_test, temp_y_pred)\n",
    "    print(\"Accuracy score for alpha={} is: {}%\".format(round(i,1), round(score*100,2)))\n",
    "    if score>best_accuracy:\n",
    "        best_accuracy = score\n",
    "        alpha_val = i"
   ]
  },
  {
   "cell_type": "code",
   "execution_count": 80,
   "id": "86f1019c",
   "metadata": {},
   "outputs": [],
   "source": [
    "param_grid = {'penalty':['l1','l2','elasticnet','none']}\n",
    "grid = GridSearchCV(LogisticRegression(),param_grid,refit=True,verbose=0,cv=5)\n",
    "grid.fit(X_train,y_train)\n",
    "print(grid.best_params_)\n",
    "print(grid.best_score_)"
   ]
  },
  {
   "attachments": {},
   "cell_type": "markdown",
   "id": "b7a64583",
   "metadata": {},
   "source": [
    "## Unsupervised Learning:"
   ]
  },
  {
   "attachments": {},
   "cell_type": "markdown",
   "id": "1249d239",
   "metadata": {},
   "source": [
    "## K-Means"
   ]
  },
  {
   "cell_type": "code",
   "execution_count": 21,
   "id": "a2cebf75",
   "metadata": {},
   "outputs": [
    {
     "data": {
      "text/plain": [
       "KMeans(n_clusters=15)"
      ]
     },
     "execution_count": 21,
     "metadata": {},
     "output_type": "execute_result"
    }
   ],
   "source": [
    "km = KMeans(n_clusters=15)\n",
    "km.fit(X_train)"
   ]
  },
  {
   "cell_type": "code",
   "execution_count": 22,
   "id": "6732548d",
   "metadata": {},
   "outputs": [
    {
     "name": "stdout",
     "output_type": "stream",
     "text": [
      "0.004794452233923177\n"
     ]
    }
   ],
   "source": [
    "y_pred=km.predict(X_test)\n",
    "print(adjusted_rand_score(y_test,y_pred))"
   ]
  },
  {
   "attachments": {},
   "cell_type": "markdown",
   "id": "bd45ba47",
   "metadata": {},
   "source": [
    "# MLP"
   ]
  },
  {
   "cell_type": "code",
   "execution_count": 76,
   "id": "f8ab4bf3",
   "metadata": {},
   "outputs": [
    {
     "data": {
      "text/plain": [
       "MLPClassifier(hidden_layer_sizes=(8, 8, 8), max_iter=500)"
      ]
     },
     "execution_count": 76,
     "metadata": {},
     "output_type": "execute_result"
    }
   ],
   "source": [
    "from sklearn.neural_network import MLPClassifier\n",
    "mlp = MLPClassifier(hidden_layer_sizes=(8,8,8), activation='relu', solver='adam', max_iter=500)\n",
    "mlp.fit(X_train,y_train)"
   ]
  },
  {
   "cell_type": "code",
   "execution_count": 79,
   "id": "a00017b3",
   "metadata": {},
   "outputs": [
    {
     "name": "stdout",
     "output_type": "stream",
     "text": [
      "\n",
      "Train data accuracy score:  0.9982467674775367\n",
      "Test data accuracy score:  0.1291443599135907\n",
      "\n",
      "Recall score on train data:  0.998248226675636\n",
      "Recall score on test data:  0.12943166350765722\n",
      "\n",
      "Precision score on train data:  0.9982544364224405\n",
      "Precision score on test data:  0.16851937160753447\n",
      "\n",
      "F1 score on train data:  0.998249512050582\n",
      "F1 score on test data:  0.13684898009984853\n"
     ]
    }
   ],
   "source": [
    "y_pred=mlp.predict(X_test)\n",
    "y_pred_train=mlp.predict(X_train)\n",
    "scores(y_train,y_test,y_pred_train,y_pred)\n"
   ]
  },
  {
   "attachments": {},
   "cell_type": "markdown",
   "id": "6f396d7d",
   "metadata": {},
   "source": [
    "## MiniBatchKMeans Clustering"
   ]
  },
  {
   "cell_type": "code",
   "execution_count": 34,
   "id": "7ca2317a",
   "metadata": {},
   "outputs": [
    {
     "data": {
      "text/plain": [
       "MiniBatchKMeans(n_clusters=50)"
      ]
     },
     "execution_count": 34,
     "metadata": {},
     "output_type": "execute_result"
    }
   ],
   "source": [
    "from sklearn.cluster import MiniBatchKMeans\n",
    "cls = MiniBatchKMeans(n_clusters=70)\n",
    "cls.fit(X_train)\n",
    "y_pred=cls.predict(X_test)\n",
    "print(adjusted_rand_score(y_test,y_pred))"
   ]
  },
  {
   "attachments": {},
   "cell_type": "markdown",
   "id": "3a5bb40a",
   "metadata": {},
   "source": [
    "the adjusted rand score is 0.01 which is not very accurate"
   ]
  },
  {
   "attachments": {},
   "cell_type": "markdown",
   "id": "e7c66c45",
   "metadata": {},
   "source": [
    "## PCA - Dimension Reduction "
   ]
  },
  {
   "cell_type": "code",
   "execution_count": 43,
   "id": "656c7981",
   "metadata": {},
   "outputs": [],
   "source": [
    "from sklearn.cluster import MiniBatchKMeans\n",
    "from sklearn.feature_extraction.text import TfidfVectorizer\n",
    "from sklearn.decomposition import PCA\n",
    "from sklearn.decomposition import TruncatedSVD\n",
    "from scipy import sparse as sp"
   ]
  },
  {
   "cell_type": "code",
   "execution_count": 69,
   "id": "e3f2aaa8",
   "metadata": {},
   "outputs": [],
   "source": [
    "clf = TruncatedSVD(100)\n",
    "X_sp = clf.fit_transform(X)\n",
    "pca = PCA(n_components=50)\n",
    "pca.fit(X_sp)\n",
    "X_pca = pca.transform(X_sp)"
   ]
  },
  {
   "cell_type": "code",
   "execution_count": 70,
   "id": "a22f400b",
   "metadata": {},
   "outputs": [],
   "source": [
    "xsptr,xspte,ysptr,yspte=train_test_split(X_pca,y,test_size=0.3,random_state=48)\n",
    "modelsvc.fit(xsptr,ysptr)\n",
    "y_pred_train=modelsvc.predict(xsptr)\n",
    "y_pred_test = modelsvc.predict(xspte)"
   ]
  },
  {
   "cell_type": "code",
   "execution_count": 71,
   "id": "9667ce27",
   "metadata": {},
   "outputs": [
    {
     "name": "stdout",
     "output_type": "stream",
     "text": [
      "\n",
      "Train data accuracy score:  0.3155882056958841\n",
      "Test data accuracy score:  0.2999139078030837\n",
      "\n",
      "Recall score on train data:  0.31596135916117585\n",
      "Recall score on test data:  0.29939682755111285\n",
      "\n",
      "Precision score on train data:  0.31173499951366695\n",
      "Precision score on test data:  0.29648798647702856\n",
      "\n",
      "F1 score on train data:  0.3031115643547543\n",
      "F1 score on test data:  0.2867093513930195\n"
     ]
    }
   ],
   "source": [
    "scores(ysptr,yspte,y_pred_train,y_pred_test)"
   ]
  }
 ],
 "metadata": {
  "colab": {
   "provenance": []
  },
  "kernelspec": {
   "display_name": "base",
   "language": "python",
   "name": "python3"
  },
  "language_info": {
   "codemirror_mode": {
    "name": "ipython",
    "version": 3
   },
   "file_extension": ".py",
   "mimetype": "text/x-python",
   "name": "python",
   "nbconvert_exporter": "python",
   "pygments_lexer": "ipython3",
   "version": "3.9.12 (main, Apr  4 2022, 05:22:27) [MSC v.1916 64 bit (AMD64)]"
  },
  "vscode": {
   "interpreter": {
    "hash": "b252d7cd785b71e172da3ea3f9bb583c7f237978e37e2489541bd05394a3564b"
   }
  }
 },
 "nbformat": 4,
 "nbformat_minor": 5
}
